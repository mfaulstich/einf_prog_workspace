{
 "cells": [
  {
   "cell_type": "markdown",
   "metadata": {},
   "source": [
    "### Aufgabe 1 Summation unendlicher Reihen\n",
    "\n",
    "#### 1.1 Summenbildung bei endlichen Reihen\n",
    "\n",
    "$$\n",
    "\\begin{align}\n",
    "H &= \\sum \\limits _{i=1} ^{\\infty} \\frac{1}{i} =  \\frac{1}{1}+\\frac{1}{2}+\\frac{1}{3}+\\frac{1}{4}+ ... \\\\\n",
    "A &= \\sum \\limits _{i=1} ^{\\infty} \\frac{(-1)^{i+1}}{i} =  \\frac{1}{1}-\\frac{1}{2}+\\frac{1}{3}-\\frac{1}{4}+ ... \\\\\n",
    "L &= \\sum \\limits _{i=1} ^{\\infty} \\frac{(-1)^{i+1}}{2i-1} =  \\frac{1}{1}-\\frac{1}{3}+\\frac{1}{5}-\\frac{1}{7}+ ... \\\\\n",
    "G &= \\sum \\limits _{i=1} ^{\\infty} \\frac{1}{2^i} =  \\frac{1}{1}+\\frac{1}{2}+\\frac{1}{4}+\\frac{1}{8}+ ...\n",
    "\\end{align}\n",
    "$$\n",
    "\n",
    "<center>\n",
    "\n",
    "| Gleichung | Name | Summe |\n",
    "|:---------:|:-----|:-----:|\n",
    "| 1 | harmonische Reihe | $\\infty$ |\n",
    "| 2 | alternierende harmonische Reihe | $\\ln 2$ |\n",
    "| 3 | Leibnitzsche Reihe | $\\pi / 4$ |\n",
    "| 4 | Geometrische Reihe | $2$ |\n",
    "\n",
    "</center>\n",
    "\n",
    "Die Bildung einer Die Bildung einer Summe $S$ aus $n$ Summanden wird mit Hilfe einer Schleife durchgeführt. Bei jedem Schleifendurchlauf wird ein Summand $s_{i}$ zu der sich aufbauende Summe $S$ addiert:\n",
    "\n",
    "$$\n",
    "\\begin{align}\n",
    "S &= s_{1} + s_{2} + s_{3} + ... + s_{n} \\\\\n",
    "S &= 0 \\\\\n",
    "S &= S + s_{1} \\\\\n",
    "S &= S + s_{2} \\\\\n",
    "... \\\\\n",
    "S &= S + s_{n} \\\\\n",
    "\\end{align}\n",
    "$$\n",
    "\n",
    "#### 1.1.1 Wechselnde Vorzeichen\n",
    "Wechselnde Vorzeichen (Reihe 1.2 und 1.3) werden dadurch gebildet, daß man einer Hilfsvariablen $v$ vor der Schleife den Wert $+1$ zuweist. Die Summanden werden in der Schleife mit der Vorzeichenvariablen $v$ multipliziert. Danach wird mit der Zuweisung $v = -v$ die Umkehr des Vorzeichens für den nächsten Durchlauf erzwungen.\n",
    "\n",
    "### 1.1.2. Nichtlinear wachsende oder fallende Summanden\n",
    "Die Summanden der Geometrischen Reihe können ohne Potenzierung berechnet werden. Der jeweilsnächste Summand ergibt sich durch Multiplikation mit dem Faktor $\\frac{1}{2}$ aus dem vorhergehenden. Wenn die Variable **$summand$** den Wert des Summanden aus dem letzten Schleifendurchlauf besitzt, dann kann durch\n",
    "$$\n",
    "summand = 0.5 * summand;\n",
    "$$\n",
    "der Wert für den aktuellen Schleifendurchlauf bestimmt werden.\n",
    "\n",
    "Schreiben Sie Python-Skripte, in welchem für jede dieser Reihen die Summe der ersten 1000 Summanden gebildet und mit fünf Nachkommastellen ausgegeben werden."
   ]
  },
  {
   "cell_type": "markdown",
   "metadata": {},
   "source": [
    "#### Aufgabe 1: Harmonische Reihe\n",
    "$$\n",
    "\\begin{align}\n",
    "    H &= \\sum \\limits _{i=1} ^{\\infty} \\frac{1}{i} =  \\frac{1}{1}+\\frac{1}{2}+\\frac{1}{3}+\\frac{1}{4}+ ... \\\\\n",
    "    Summe &= \\infty\n",
    "\\end{align}\n",
    "$$"
   ]
  },
  {
   "cell_type": "code",
   "execution_count": null,
   "metadata": {},
   "outputs": [],
   "source": [
    "# Lösung Aufgabe 1: Harmonische Reihe\n",
    "def harmReihe(n):\n",
    "### BEGIN SOLUTION\n",
    "    summe = 0.0\n",
    "    for k in range(1, n + 1):\n",
    "        summe += 1 / k\n",
    "    return summe\n",
    "### END SOLUTION\n",
    "n=1000\n",
    "print(f\"Summe Harmonische Reihe ={harmReihe(n):10.5f}\\n\")\n"
   ]
  },
  {
   "cell_type": "code",
   "execution_count": 3,
   "metadata": {},
   "outputs": [],
   "source": [
    "# Prüfung des Ergebnisses\n",
    "# Haken: OK\n",
    "# AssertionError: Berechnung fehlerhaft\n",
    "### BEGIN HIDDEN TESTS\n",
    "n=1000\n",
    "assert (harmReihe(n) >= 7.48547) and (harmReihe(n) < 7.48548) \n",
    "### END HIDDEN TESTS\n"
   ]
  },
  {
   "cell_type": "markdown",
   "metadata": {},
   "source": [
    "#### Aufgabe 2: Alternierende harmonische Reihe\n",
    "$$\n",
    "\\begin{align}\n",
    "    A &= \\sum \\limits _{i=1} ^{\\infty} \\frac{(-1)^{i+1}}{i} =  \\frac{1}{1}-\\frac{1}{2}+\\frac{1}{3}-\\frac{1}{4}+ ... \\\\\n",
    "    Summe &= \\ln 2\n",
    "\\end{align}\n",
    "$$"
   ]
  },
  {
   "cell_type": "code",
   "execution_count": null,
   "metadata": {},
   "outputs": [],
   "source": [
    "# Lösung 2: Alternierende Harmonische Reihe\n",
    "def altHarmReihe(n):\n",
    "### BEGIN SOLUTION\n",
    "    summe = 0.0\n",
    "    v=1\n",
    "    for k in range(1, n + 1):\n",
    "        summe += v / k\n",
    "        v *= -1\n",
    "    return summe\n",
    "### END SOLUTION\n",
    "n=1000\n",
    "print(f\"Summe alternierende Harmonische Reihe ={altHarmReihe(n):10.5f}\\n\")\n"
   ]
  },
  {
   "cell_type": "code",
   "execution_count": 5,
   "metadata": {},
   "outputs": [],
   "source": [
    "# Prüfung des Ergebnisses\n",
    "# Haken: OK\n",
    "# AssertionError: Berechnung fehlerhaft\n",
    "### BEGIN HIDDEN TESTS\n",
    "n=1000\n",
    "assert (altHarmReihe(n) >= 0.69264) and (altHarmReihe(n) < 0.69266) \n",
    "### END HIDDEN TESTS\n"
   ]
  },
  {
   "cell_type": "markdown",
   "metadata": {},
   "source": [
    "#### Aufgabe 3: Leibnitzsche Reihe\n",
    "$$\n",
    "\\begin{align}\n",
    "L &= \\sum \\limits _{i=1} ^{\\infty} \\frac{(-1)^{i+1}}{2i-1} =  \\frac{1}{1}-\\frac{1}{3}+\\frac{1}{5}-\\frac{1}{7}+ ... \\\\\n",
    "Summe &= \\pi / 4\n",
    "\\end{align}\n",
    "$$"
   ]
  },
  {
   "cell_type": "code",
   "execution_count": null,
   "metadata": {},
   "outputs": [],
   "source": [
    "# Lösung 3: Leibnitzsche Reihe\n",
    "def leibnitzReihe(n):\n",
    "### BEGIN SOLUTION\n",
    "    summe = 0.0\n",
    "    v=1\n",
    "    d=1\n",
    "    for k in range(1, n + 1):\n",
    "        summe += v / d\n",
    "        v *= -1\n",
    "        d += 2\n",
    "    return summe\n",
    "### END SOLUTION\n",
    "n=1000\n",
    "print(f\"Summe Leibnitzsche Reihe ={leibnitzReihe(n):10.5f}\\n\")"
   ]
  },
  {
   "cell_type": "code",
   "execution_count": 7,
   "metadata": {},
   "outputs": [],
   "source": [
    "# Prüfung des Ergebnisses\n",
    "# Haken: OK\n",
    "# AssertionError: Berechnung fehlerhaft\n",
    "### BEGIN HIDDEN TESTS\n",
    "n=1000\n",
    "assert (leibnitzReihe(n) >= 0.78514) and (leibnitzReihe(n) < 0.78516) \n",
    "### END HIDDEN TESTS"
   ]
  },
  {
   "cell_type": "markdown",
   "metadata": {},
   "source": [
    "#### Aufgabe 4: Geometrische Reihe\n",
    "$$\n",
    "\\begin{align}\n",
    "G &= \\sum \\limits _{i=1} ^{\\infty} \\frac{1}{2^i} =  \\frac{1}{1}+\\frac{1}{2}+\\frac{1}{4}+\\frac{1}{8}+ ...\n",
    "Summe &= 2\n",
    "\\end{align}\n",
    "$$"
   ]
  },
  {
   "cell_type": "code",
   "execution_count": null,
   "metadata": {},
   "outputs": [],
   "source": [
    "# Lösung 4: Geometrische Reihe\n",
    "def geoReihe(n):\n",
    "### BEGIN SOLUTION\n",
    "    summe = 0.0\n",
    "    summand=1\n",
    "    for k in range(1, n + 1):\n",
    "        summe += summand\n",
    "        summand *= 0.5\n",
    "    return summe\n",
    "### END SOLUTION\n",
    "n=1000\n",
    "print(f\"Summe Leibnitzsche Reihe ={geoReihe(n):10.5f}\\n\")"
   ]
  },
  {
   "cell_type": "code",
   "execution_count": 9,
   "metadata": {},
   "outputs": [],
   "source": [
    "# Prüfung des Ergebnisses\n",
    "# Haken: OK\n",
    "# AssertionError: Berechnung fehlerhaft\n",
    "### BEGIN HIDDEN TESTS\n",
    "n=1000\n",
    "assert geoReihe(n) == 2\n",
    "### END HIDDEN TESTS"
   ]
  },
  {
   "cell_type": "markdown",
   "metadata": {},
   "source": [
    "#### 1.2. Summenbildung bei unendlicher Reihen\n",
    "\n",
    "Die Bildung von Summen unendlicher Reihen durch Aufaddieren ist auf einem Digitalrechner natürlich\n",
    "nicht möglich. Wegen der begrenzten Genauigkeit der Zahlendarstellung und der Tatsache, daß die\n",
    "Summanden einer konvergierenden Reihe immer kleinere Beträge annehmen, verändert die Addition\n",
    "weiterer Summanden eine bereits berechnete Summe ab einem gewissen $i$ nicht mehr! Wenn die\n",
    "Summe aus dem letzten Rechenschritt als Vergleichswert zur Verfügung steht, kann dieser Umstand\n",
    "festgestellt und die Berechnung abgebrochen werden. Die bis dahin ermittelte Summe stellt eine\n",
    "Näherungslösung dar.\n",
    "\n",
    "Erstellen Sie eine neue Version des Programmes aus dem ersten Teil, in welchem Sie die Geometri-\n",
    "sche Reihe solange aufsummieren, bis sich die Summe nicht mehr ändert.\n",
    "Geben Sie die Anzahl der Summanden und die errechnete Summe (16 Nachkommastellen) aus und\n",
    "vergleichen Sie die Summe mit dem erwarteten Grenzwert."
   ]
  },
  {
   "cell_type": "code",
   "execution_count": null,
   "metadata": {},
   "outputs": [],
   "source": [
    "# Lösung 5: Geometrische Reihe bis Summe sich nicht ändert\n",
    "def geoReihe2(n):\n",
    "### BEGIN SOLUTION\n",
    "    summe = 0.0\n",
    "    summand=1\n",
    "    summe_alt=-1\n",
    "    count = 0\n",
    "    while True:\n",
    "        count+=1\n",
    "        summe += summand\n",
    "        summand *= 0.5\n",
    "        if (summe_alt == summe):\n",
    "            print(f\"Abbruch nach {count} Summanden\")\n",
    "            break\n",
    "        summe_alt = summe\n",
    "    return summe\n",
    "### END SOLUTION\n",
    "n=1000\n",
    "print(f\"Summe Leibnitzsche Reihe ={geoReihe2(n):20.16f}\")"
   ]
  },
  {
   "cell_type": "code",
   "execution_count": null,
   "metadata": {},
   "outputs": [],
   "source": [
    "# Prüfung des Ergebnisses\n",
    "# Haken: OK\n",
    "# AssertionError: Berechnung fehlerhaft\n",
    "### BEGIN HIDDEN TESTS\n",
    "n=1000\n",
    "assert geoReihe2(n) == 2\n",
    "### END HIDDEN TESTS"
   ]
  }
 ],
 "metadata": {
  "kernelspec": {
   "display_name": "Python 3",
   "language": "python",
   "name": "python3"
  },
  "language_info": {
   "codemirror_mode": {
    "name": "ipython",
    "version": 3
   },
   "file_extension": ".py",
   "mimetype": "text/x-python",
   "name": "python",
   "nbconvert_exporter": "python",
   "pygments_lexer": "ipython3",
   "version": "3.11.2"
  },
  "varInspector": {
   "cols": {
    "lenName": 16,
    "lenType": 16,
    "lenVar": 40
   },
   "kernels_config": {
    "python": {
     "delete_cmd_postfix": "",
     "delete_cmd_prefix": "del ",
     "library": "var_list.py",
     "varRefreshCmd": "print(var_dic_list())"
    },
    "r": {
     "delete_cmd_postfix": ") ",
     "delete_cmd_prefix": "rm(",
     "library": "var_list.r",
     "varRefreshCmd": "cat(var_dic_list()) "
    }
   },
   "types_to_exclude": [
    "module",
    "function",
    "builtin_function_or_method",
    "instance",
    "_Feature"
   ],
   "window_display": false
  }
 },
 "nbformat": 4,
 "nbformat_minor": 4
}
