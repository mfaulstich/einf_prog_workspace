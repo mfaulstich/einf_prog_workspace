{
 "cells": [
  {
   "cell_type": "markdown",
   "metadata": {},
   "source": [
    "### 4. Umgang mit Texten\n",
    "\n",
    "#### 4.1. Buchstaben und Ziffern in einem Text abzählen\n",
    "\n",
    "![Zustandsdiagramme zur Wort- und Zahlenerkennung](cpp1_a4_abb_4_1_zustandsdiagramm_wort_zahlerkennung.png)<br>\n",
    "Abbildung 4.1.: Zustandsdiagramme zur Wort- und Zahlenerkennung\n",
    "\n",
    "* Geben ist das folgende Beispielskript in welchem ein Text eingelesen, ausgegeben und die Anzahl der Klein- und Großbuchstaben ermittelt wird.<br>\n",
    "Überprüfen Sie dessen Funktionsweise !\n",
    "* Erweitern Sie das Programm so, daß auch Ziffern abgezählt werden können (Testfunktion: isdigit()).\n",
    "* Ändern Sie das Programm nun so, daß die Unterscheidung zwischen Klein- und Großbuchstaben\n",
    "entfällt und nur Buchstaben (Testfunktion: isalpha()) und Ziffern abgezählt werden."
   ]
  },
  {
   "cell_type": "code",
   "execution_count": 1,
   "metadata": {},
   "outputs": [
    {
     "name": "stdout",
     "output_type": "stream",
     "text": [
      "### 4. Umgang mit Texten\n",
      "\n",
      "#### 4.1. Buchstaben und Ziffern in einem Text abzählen\n",
      "\n",
      "* Geben ist das folgende Beispielskript in welchem ein Text eingelesen, ausgegeben und die Anzahl der Klein- und Großbuchstaben ermittelt wird.<br>Überprüfen Sie dessen Funktionsweise!\n",
      "* Erweitern Sie das Programm so, daß auch Ziffern abgezählt werden können (Testfunktion: isdigit()).\n",
      "* Ändern Sie das Programm nun so, daß die Unterscheidung zwischen Klein- und Großbuchstaben\n",
      "entfällt und nur Buchstaben (Testfunktion: isalpha()) und Ziffern abgezählt werden. \n",
      "\n",
      "\n",
      "\n",
      "Anzahl der Kleinbuchstaben: 402\n",
      "Anzahl der Großbuchstaben:   28\n",
      "Anzahl der Buchstaben:      430\n",
      "Anzahl der Ziffern:           3\n"
     ]
    }
   ],
   "source": [
    "# Lösung 4.1: Buchstaben und Ziffern in einem Text abzählen.\n",
    "\n",
    "def count_characters(filename):\n",
    "    try:\n",
    "        # Öffnen der Datei im Lesemodus\n",
    "        with open(filename, 'r', encoding='utf-8') as file:\n",
    "            text = file.read()\n",
    "\n",
    "        # Ausgabe des Textes\n",
    "        print(text)\n",
    "        print(\"\\n\")\n",
    "\n",
    "        # Zähler für Klein- und Großbuchstaben\n",
    "        lowerCaseCharacters = 0\n",
    "        upperCaseCharacters = 0\n",
    "### BEGIN SOLUTION\n",
    "        digitCharacters = 0\n",
    "        alphaCharacters = 0\n",
    "### END SOLUTION\n",
    "        # Durchlaufen des Textes und Zählen der Buchstaben\n",
    "        for character in text:\n",
    "            if character.islower():\n",
    "                lowerCaseCharacters += 1\n",
    "            elif character.isupper():\n",
    "                upperCaseCharacters += 1\n",
    "### BEGIN SOLUTION\n",
    "            elif character.isdigit():\n",
    "                digitCharacters += 1 \n",
    "            if (character.isalpha()):\n",
    "                alphaCharacters += 1               \n",
    "### END SOLUTION                \n",
    "\n",
    "        # Ausgabe der Ergebnisse\n",
    "        print(f\"Anzahl der Kleinbuchstaben: {lowerCaseCharacters:3}\")\n",
    "        print(f\"Anzahl der Großbuchstaben:  {upperCaseCharacters:3}\")\n",
    "### BEGIN SOLUTION\n",
    "        print(f\"Anzahl der Buchstaben:      {alphaCharacters:3}\")\n",
    "        print(f\"Anzahl der Ziffern:         {digitCharacters:3}\")\n",
    "### END SOLUTION\n",
    "    except FileNotFoundError:\n",
    "        print(f\"Fehler: Die Datei '{filename}' wurde nicht gefunden.\")\n",
    "    except PermissionError:\n",
    "        print(f\"Fehler: Leserecht für die Datei '{filename}' fehlt.\")\n",
    "    except Exception as e:\n",
    "        print(\"Unerwarteter Fehler\")\n",
    "        print(str(e))\n",
    "\n",
    "# Aufruf der Funktion\n",
    "filename = 'cpp1_a4_text_1.txt'\n",
    "count_characters(filename)\n"
   ]
  },
  {
   "cell_type": "markdown",
   "metadata": {},
   "source": [
    "#### 4.2. Wörter in einem Text abzählen\n",
    "Das unter [4.1](#41-buchstaben-und-ziffern-in-einem-text-abzählen) entwickelte Programm soll nun so abgeändert werden, daß die **Wörter** im Eingabetext abgezählt und deren Anzahl ausgegeben werden.\n",
    "\n",
    "Die Analyse kann wie folgt durchgeführt werden:<br>\n",
    "Das augenblicklich betrachtete Zeichen gehört entweder zu einem Wort oder zu einem Zwischenraum (Folge von Leerzeichen und/oder Tabulatoren).<br>\n",
    "Jeder der beiden Zustände wird in einer Zustandsvariablen zustand codiert, zum Beispiel\n",
    "* EMPTY: zustand=0,\n",
    "* WORD : zustand=1.\n",
    "\n",
    "In jedem Schritt (das heißt beim jeweils nächsten zu betrachtenden Zeichen) wird überprüft, ob eine Zustandsänderung stattfindet (siehe Abbildung 4.1). Beim Zustandsübergang EMPTY → WORD wird der Wortzähler erhöht.\n",
    "Es gibt zwar mehrere Zustände, die Implementierung benötigt jedoch nur eine einzige Zustandsvariable, da die Zustände numeriert sind.<br>\n",
    "Zur Klassifizierung der einzelnen Zeichen bietet Python Klassifizierungsfunktionen an. Ein Teil davon ist in Abb 4.2 dargestellt.\n",
    "\n",
    "![Klassifizierungsfunktionen](cpp1_a4_abb_4_2_character-klassifizierungsmethoden.png)<br>\n",
    "Abbildung 4.2.: Hierarchie der Zeichenklassen und der Klassifizierungsfunktionen in Python (Auszug).\n",
    "\n",
    "Die Funktion soll die Anzahl der Wörter in der Datei, deren Name übergeben wird, zurückgeben.\n",
    "\n",
    "**<u>Tipp</u>**<br>\n",
    "Der Wortzähler wird hochgezählt, wenn der Anfang eines Wortes erkannt wird.<br>\n",
    "Zu Testzwecken kann der Buchstabe, bei dem ein Wortanfang erkannt wird, ausgegeben und die Liste mit dem Inhalt der Datei verglichen werden.\n"
   ]
  },
  {
   "cell_type": "code",
   "execution_count": null,
   "metadata": {},
   "outputs": [
    {
     "name": "stdout",
     "output_type": "stream",
     "text": [
      "'cpp1_a4_text_1.txt' hat 74 Wörter\n"
     ]
    }
   ],
   "source": [
    "# Lösung 4.2 Wörter in einem Text abzählen\n",
    "EMPTY = 0\n",
    "WORD = 1\n",
    "def count_words(filename):   \n",
    "    try:\n",
    "        state = EMPTY\n",
    "        words = 0\n",
    "\n",
    "        ### BEGIN SOLUTION\n",
    "        # Öffnen der Datei im Lesemodus\n",
    "        with open(filename, 'r', encoding='utf-8') as file:\n",
    "            text = file.read()\n",
    "\n",
    "\n",
    "        # Durchlaufen des Textes und Zählen der Buchstaben\n",
    "        for character in text:\n",
    "            if (character.isalnum()):\n",
    "                if (state == EMPTY):\n",
    "                    state=WORD\n",
    "                    words += 1\n",
    "            elif (state == WORD):\n",
    "                state = EMPTY\n",
    "                \n",
    "                \n",
    "        ### END SOLUTION                \n",
    "        return words\n",
    "\n",
    "    except FileNotFoundError:\n",
    "        print(f\"Fehler: Die Datei '{filename}' wurde nicht gefunden.\")\n",
    "    except PermissionError:\n",
    "        print(f\"Fehler: Leserecht für die Datei '{filename}' fehlt.\")\n",
    "    except Exception as e:\n",
    "        print(\"Unerwarteter Fehler\")\n",
    "        print(str(e))\n",
    "\n",
    "# Aufruf der Funktion\n",
    "filename = 'cpp1_a4_text_1.txt'\n",
    "print(f\"'{filename}' hat {count_words(filename)} Wörter\")"
   ]
  },
  {
   "cell_type": "code",
   "execution_count": null,
   "metadata": {},
   "outputs": [],
   "source": [
    "# Test  4.2 Wörter in einem Text abzählen\n",
    "### BEGIN HIDDEN TESTS\n",
    "def test_count_words(filename):   \n",
    "    try:\n",
    "        state = EMPTY\n",
    "        words = 0\n",
    "\n",
    "        ### BEGIN SOLUTION\n",
    "        # Öffnen der Datei im Lesemodus\n",
    "        with open(filename, 'r', encoding='utf-8') as file:\n",
    "            text = file.read()\n",
    "\n",
    "\n",
    "        # Durchlaufen des Textes und Zählen der Buchstaben\n",
    "        for character in text:\n",
    "            if (character.isalnum()):\n",
    "                if (state == EMPTY):\n",
    "                    state=WORD\n",
    "                    words += 1\n",
    "            elif (state == WORD):\n",
    "                state = EMPTY\n",
    "                \n",
    "                \n",
    "        ### END SOLUTION                \n",
    "        return words\n",
    "\n",
    "    except FileNotFoundError:\n",
    "        print(f\"Fehler: Die Datei '{filename}' wurde nicht gefunden.\")\n",
    "    except PermissionError:\n",
    "        print(f\"Fehler: Leserecht für die Datei '{filename}' fehlt.\")\n",
    "    except Exception as e:\n",
    "        print(\"Unerwarteter Fehler\")\n",
    "        print(str(e))\n",
    "\n",
    "count = count_words(filename)\n",
    "testCount = test_count_words(filename)\n",
    "assert count == testCount, f\"Funktion hat {count} Wörter gefunden, es sind aber {testCount}.\"\n",
    "### END HIDDEN TESTS"
   ]
  },
  {
   "cell_type": "markdown",
   "metadata": {},
   "source": [
    "### 4.3. Wörter und Zahlen in einem Text abzählen\n",
    "Das unter [Wörter in einem Text abzählen](#42-wörter-in-einem-text-abzählen) entwickelte Programm soll nun so abgeändert werden, daß zusätzlich Zahlen im Eingabetext erkannt, abgezählt und auch deren Anzahl ausgegeben wird. Dazu ist gemäß Abbildung 4.1a\n",
    "ein weiterer Zustand NUMBER einzufügen und die zusätzlichen Übergänge zu implementieren.<br>\n",
    "Erweitern Sie das Programm indem Sie prüfen, ob in einer Buchstabenfolge eine Ziffer oder in einer Ziffernfolge ein Buchstabe auftritt (Abbildung 4.1b). In diesem Fall soll das Programm mit `raise Error(\"Fehlermeldung\")` einen Fehler mit einer zu dem gefundenen Fehler passenden Fehlermeldung werfen.<br>\n",
    "\n",
    "* Verwenden Sie für die Auszählung wieder die Datei `cpp1_a4_text_1.txt`. Überprüfen Sie das Ergebnis Ihrer Auszählung !\n",
    "* Die Datei `cpp1_a4_text_err_1.txt` enthält eine Ziffer in einem Wort. Überprüfen Sie, dass der Fehler gefunden wird.\n",
    "* Die Datei `cpp1_a4_text_err_2.txt` enthält einen Buchstaben in einer Zahl. Überprüfen Sie, dass der Fehler gefunden wird.\n"
   ]
  },
  {
   "cell_type": "code",
   "execution_count": null,
   "metadata": {},
   "outputs": [],
   "source": []
  }
 ],
 "metadata": {
  "kernelspec": {
   "display_name": "Python 3",
   "language": "python",
   "name": "python3"
  },
  "language_info": {
   "codemirror_mode": {
    "name": "ipython",
    "version": 3
   },
   "file_extension": ".py",
   "mimetype": "text/x-python",
   "name": "python",
   "nbconvert_exporter": "python",
   "pygments_lexer": "ipython3",
   "version": "3.11.2"
  },
  "varInspector": {
   "cols": {
    "lenName": 16,
    "lenType": 16,
    "lenVar": 40
   },
   "kernels_config": {
    "python": {
     "delete_cmd_postfix": "",
     "delete_cmd_prefix": "del ",
     "library": "var_list.py",
     "varRefreshCmd": "print(var_dic_list())"
    },
    "r": {
     "delete_cmd_postfix": ") ",
     "delete_cmd_prefix": "rm(",
     "library": "var_list.r",
     "varRefreshCmd": "cat(var_dic_list()) "
    }
   },
   "types_to_exclude": [
    "module",
    "function",
    "builtin_function_or_method",
    "instance",
    "_Feature"
   ],
   "window_display": false
  }
 },
 "nbformat": 4,
 "nbformat_minor": 4
}
