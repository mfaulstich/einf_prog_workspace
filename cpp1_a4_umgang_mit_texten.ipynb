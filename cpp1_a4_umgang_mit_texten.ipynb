{
 "cells": [
  {
   "cell_type": "markdown",
   "metadata": {},
   "source": [
    "### 4. Umgang mit Texten\n",
    "\n",
    "#### 4.1. Buchstaben und Ziffern in einem Text abzählen\n",
    "\n",
    "![Zustandsdiagramme zur Wort- und Zahlenerkennung](cpp1_a4_zustandsdiagramm_wort_zahlerkennung.png)<br>\n",
    "Abbildung 4.1.: Zustandsdiagramme zur Wort- und Zahlenerkennung\n",
    "\n",
    "* Geben ist das folgende Beispielskript in welchem ein Text eingelesen, ausgegeben und die Anzahl der Klein- und Großbuchstaben ermittelt wird.<br>Überprüfen Sie dessen Funktionsweise !\n",
    "* Erweitern Sie das Programm so, daß auch Ziffern abgezählt werden können (Testfunktion: isdigit()).\n",
    "* Ändern Sie das Programm nun so, daß die Unterscheidung zwischen Klein- und Großbuchstaben\n",
    "entfällt und nur Buchstaben (Testfunktion: isalpha()) und Ziffern abgezählt werden."
   ]
  },
  {
   "cell_type": "code",
   "execution_count": null,
   "metadata": {},
   "outputs": [
    {
     "name": "stdout",
     "output_type": "stream",
     "text": [
      "### 4. Umgang mit Texten\n",
      "\n",
      "#### 4.1. Buchstaben und Ziffern in einem Text abzählen\n",
      "\n",
      "* Geben ist das folgende Beispielskript in welchem ein Text eingelesen, ausgegeben und die Anzahl der Klein- und Großbuchstaben ermittelt wird.<br>Überprüfen Sie dessen Funktionsweise !\n",
      "* Erweitern Sie das Programm so, daß auch Ziffern abgezählt werden können (Testfunktion: isdigit()).\n",
      "* Ändern Sie das Programm nun so, daß die Unterscheidung zwischen Klein- und Großbuchstaben\n",
      "entfällt und nur Buchstaben (Testfunktion: isalpha()) und Ziffern abgezählt werden. \n",
      "\n",
      "\n",
      "\n",
      "Anzahl der Kleinbuchstaben: 402\n",
      "Anzahl der Großbuchstaben:   28\n",
      "Anzahl der Ziffern:           3\n"
     ]
    }
   ],
   "source": [
    "def analyse_text_file(filename):\n",
    "    try:\n",
    "        # Öffnen der Datei im Lesemodus\n",
    "        with open(filename, 'r', encoding='utf-8') as file:\n",
    "            text = file.read()\n",
    "\n",
    "        # Ausgabe des Textes\n",
    "        print(text)\n",
    "        print(\"\\n\")\n",
    "\n",
    "        # Zähler für Klein- und Großbuchstaben\n",
    "        lowerCaseCharacters = 0\n",
    "        upperCaseCharacters = 0\n",
    "### BEGIN SOLUTION\n",
    "        digitCharacters = 0\n",
    "        alphaCharacters = 0\n",
    "### END SOLUTION\n",
    "        # Durchlaufen des Textes und Zählen der Buchstaben\n",
    "        for charcter in text:\n",
    "            if charcter.islower():\n",
    "                lowerCaseCharacters += 1\n",
    "            elif charcter.isupper():\n",
    "                upperCaseCharacters += 1\n",
    "### BEGIN SOLUTION\n",
    "            elif charcter.isdigit():\n",
    "                digitCharacters += 1 \n",
    "            if (charcter.isalpha()):\n",
    "                alphaCharacters += 1               \n",
    "### END SOLUTION                \n",
    "\n",
    "        # Ausgabe der Ergebnisse\n",
    "        print(f\"Anzahl der Kleinbuchstaben: {lowerCaseCharacters:3}\")\n",
    "        print(f\"Anzahl der Großbuchstaben:  {upperCaseCharacters:3}\")\n",
    "### BEGIN SOLUTION\n",
    "        print(f\"Anzahl der Buchstaben:      {alphaCharacters:3}\")\n",
    "        print(f\"Anzahl der Ziffern:         {digitCharacters:3}\")\n",
    "### END SOLUTION\n",
    "    except FileNotFoundError:\n",
    "        print(f\"Fehler: Die Datei '{filename}' wurde nicht gefunden.\")\n",
    "    except PermissionError:\n",
    "        print(f\"Fehler: Leserecht für die Datei '{filename}' fehlt.\")\n",
    "    except Exception as e:\n",
    "        print(\"Unerwarteter Fehler\")\n",
    "        print(str(e))\n",
    "\n",
    "# Aufruf der Funktion\n",
    "filename = 'cpp1_a4_text_1.txt'\n",
    "analyse_text_file(filename)\n"
   ]
  }
 ],
 "metadata": {
  "kernelspec": {
   "display_name": "Python 3",
   "language": "python",
   "name": "python3"
  },
  "language_info": {
   "codemirror_mode": {
    "name": "ipython",
    "version": 3
   },
   "file_extension": ".py",
   "mimetype": "text/x-python",
   "name": "python",
   "nbconvert_exporter": "python",
   "pygments_lexer": "ipython3",
   "version": "3.11.2"
  },
  "varInspector": {
   "cols": {
    "lenName": 16,
    "lenType": 16,
    "lenVar": 40
   },
   "kernels_config": {
    "python": {
     "delete_cmd_postfix": "",
     "delete_cmd_prefix": "del ",
     "library": "var_list.py",
     "varRefreshCmd": "print(var_dic_list())"
    },
    "r": {
     "delete_cmd_postfix": ") ",
     "delete_cmd_prefix": "rm(",
     "library": "var_list.r",
     "varRefreshCmd": "cat(var_dic_list()) "
    }
   },
   "types_to_exclude": [
    "module",
    "function",
    "builtin_function_or_method",
    "instance",
    "_Feature"
   ],
   "window_display": false
  }
 },
 "nbformat": 4,
 "nbformat_minor": 4
}
